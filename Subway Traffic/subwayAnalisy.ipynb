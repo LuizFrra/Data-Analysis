{
 "cells": [
  {
   "cell_type": "markdown",
   "metadata": {},
   "source": [
    "## Importanto Bibliotecas"
   ]
  },
  {
   "cell_type": "code",
   "execution_count": 1,
   "metadata": {},
   "outputs": [],
   "source": [
    "import pandas as pd\n",
    "from sklearn.preprocessing import LabelEncoder\n",
    "import numpy as np\n",
    "from sklearn.model_selection import train_test_split\n",
    "from sklearn.neighbors import KNeighborsRegressor\n",
    "from sklearn.linear_model import LinearRegression\n",
    "from sklearn import datasets, linear_model\n",
    "%matplotlib inline\n",
    "data_is_formated = True"
   ]
  },
  {
   "cell_type": "markdown",
   "metadata": {},
   "source": [
    "Carregando Dados"
   ]
  },
  {
   "cell_type": "code",
   "execution_count": 2,
   "metadata": {},
   "outputs": [],
   "source": [
    "df_data = pd.read_csv('Metro_Interstate_Traffic_Volume.csv')\n",
    "df_data.replace(to_replace='Sky is Clear', value='sky is clear', inplace=True)"
   ]
  },
  {
   "cell_type": "markdown",
   "metadata": {},
   "source": [
    "# Análise da Base"
   ]
  },
  {
   "cell_type": "markdown",
   "metadata": {},
   "source": [
    "## Verificando Valores Nulos"
   ]
  },
  {
   "cell_type": "code",
   "execution_count": 3,
   "metadata": {},
   "outputs": [
    {
     "name": "stdout",
     "output_type": "stream",
     "text": [
      "<class 'pandas.core.frame.DataFrame'>\n",
      "RangeIndex: 48204 entries, 0 to 48203\n",
      "Data columns (total 9 columns):\n",
      "holiday                48204 non-null object\n",
      "temp                   48204 non-null float64\n",
      "rain_1h                48204 non-null float64\n",
      "snow_1h                48204 non-null float64\n",
      "clouds_all             48204 non-null int64\n",
      "weather_main           48204 non-null object\n",
      "weather_description    48204 non-null object\n",
      "date_time              48204 non-null object\n",
      "traffic_volume         48204 non-null int64\n",
      "dtypes: float64(3), int64(2), object(4)\n",
      "memory usage: 3.3+ MB\n"
     ]
    }
   ],
   "source": [
    "df_data.info()"
   ]
  },
  {
   "cell_type": "markdown",
   "metadata": {},
   "source": [
    "Conforme Visto, a base apresenta 9 colunas, e 48204 instâncias, das quais nenhum das colunas apresentam valores nulos"
   ]
  },
  {
   "cell_type": "markdown",
   "metadata": {},
   "source": [
    "## Verificando Instâncias duplicadas"
   ]
  },
  {
   "cell_type": "code",
   "execution_count": 4,
   "metadata": {},
   "outputs": [
    {
     "data": {
      "text/html": [
       "<div>\n",
       "<style scoped>\n",
       "    .dataframe tbody tr th:only-of-type {\n",
       "        vertical-align: middle;\n",
       "    }\n",
       "\n",
       "    .dataframe tbody tr th {\n",
       "        vertical-align: top;\n",
       "    }\n",
       "\n",
       "    .dataframe thead th {\n",
       "        text-align: right;\n",
       "    }\n",
       "</style>\n",
       "<table border=\"1\" class=\"dataframe\">\n",
       "  <thead>\n",
       "    <tr style=\"text-align: right;\">\n",
       "      <th></th>\n",
       "      <th>holiday</th>\n",
       "      <th>temp</th>\n",
       "      <th>rain_1h</th>\n",
       "      <th>snow_1h</th>\n",
       "      <th>clouds_all</th>\n",
       "      <th>weather_main</th>\n",
       "      <th>weather_description</th>\n",
       "      <th>date_time</th>\n",
       "      <th>traffic_volume</th>\n",
       "    </tr>\n",
       "  </thead>\n",
       "  <tbody>\n",
       "    <tr>\n",
       "      <th>18696</th>\n",
       "      <td>None</td>\n",
       "      <td>286.290</td>\n",
       "      <td>0.0</td>\n",
       "      <td>0.0</td>\n",
       "      <td>1</td>\n",
       "      <td>Clear</td>\n",
       "      <td>sky is clear</td>\n",
       "      <td>2015-09-30 19:00:00</td>\n",
       "      <td>3679</td>\n",
       "    </tr>\n",
       "    <tr>\n",
       "      <th>18697</th>\n",
       "      <td>None</td>\n",
       "      <td>286.290</td>\n",
       "      <td>0.0</td>\n",
       "      <td>0.0</td>\n",
       "      <td>1</td>\n",
       "      <td>Clear</td>\n",
       "      <td>sky is clear</td>\n",
       "      <td>2015-09-30 19:00:00</td>\n",
       "      <td>3679</td>\n",
       "    </tr>\n",
       "    <tr>\n",
       "      <th>23850</th>\n",
       "      <td>None</td>\n",
       "      <td>289.060</td>\n",
       "      <td>0.0</td>\n",
       "      <td>0.0</td>\n",
       "      <td>90</td>\n",
       "      <td>Clouds</td>\n",
       "      <td>overcast clouds</td>\n",
       "      <td>2016-06-01 10:00:00</td>\n",
       "      <td>4831</td>\n",
       "    </tr>\n",
       "    <tr>\n",
       "      <th>23851</th>\n",
       "      <td>None</td>\n",
       "      <td>289.060</td>\n",
       "      <td>0.0</td>\n",
       "      <td>0.0</td>\n",
       "      <td>90</td>\n",
       "      <td>Clouds</td>\n",
       "      <td>overcast clouds</td>\n",
       "      <td>2016-06-01 10:00:00</td>\n",
       "      <td>4831</td>\n",
       "    </tr>\n",
       "    <tr>\n",
       "      <th>26783</th>\n",
       "      <td>None</td>\n",
       "      <td>289.775</td>\n",
       "      <td>0.0</td>\n",
       "      <td>0.0</td>\n",
       "      <td>56</td>\n",
       "      <td>Clouds</td>\n",
       "      <td>broken clouds</td>\n",
       "      <td>2016-09-21 15:00:00</td>\n",
       "      <td>5365</td>\n",
       "    </tr>\n",
       "  </tbody>\n",
       "</table>\n",
       "</div>"
      ],
      "text/plain": [
       "      holiday     temp  rain_1h  snow_1h  clouds_all weather_main  \\\n",
       "18696    None  286.290      0.0      0.0           1        Clear   \n",
       "18697    None  286.290      0.0      0.0           1        Clear   \n",
       "23850    None  289.060      0.0      0.0          90       Clouds   \n",
       "23851    None  289.060      0.0      0.0          90       Clouds   \n",
       "26783    None  289.775      0.0      0.0          56       Clouds   \n",
       "\n",
       "      weather_description            date_time  traffic_volume  \n",
       "18696        sky is clear  2015-09-30 19:00:00            3679  \n",
       "18697        sky is clear  2015-09-30 19:00:00            3679  \n",
       "23850     overcast clouds  2016-06-01 10:00:00            4831  \n",
       "23851     overcast clouds  2016-06-01 10:00:00            4831  \n",
       "26783       broken clouds  2016-09-21 15:00:00            5365  "
      ]
     },
     "execution_count": 4,
     "metadata": {},
     "output_type": "execute_result"
    }
   ],
   "source": [
    "df_data[df_data.duplicated(keep=False)].head(5)"
   ]
  },
  {
   "cell_type": "markdown",
   "metadata": {},
   "source": [
    "A base apresenta algumas linhas duplicadas, acima vemos apenas algumas delas, para resolver, iremos deletar as primeiras linhas duplicadas"
   ]
  },
  {
   "cell_type": "code",
   "execution_count": 5,
   "metadata": {},
   "outputs": [
    {
     "data": {
      "text/html": [
       "<div>\n",
       "<style scoped>\n",
       "    .dataframe tbody tr th:only-of-type {\n",
       "        vertical-align: middle;\n",
       "    }\n",
       "\n",
       "    .dataframe tbody tr th {\n",
       "        vertical-align: top;\n",
       "    }\n",
       "\n",
       "    .dataframe thead th {\n",
       "        text-align: right;\n",
       "    }\n",
       "</style>\n",
       "<table border=\"1\" class=\"dataframe\">\n",
       "  <thead>\n",
       "    <tr style=\"text-align: right;\">\n",
       "      <th></th>\n",
       "      <th>holiday</th>\n",
       "      <th>temp</th>\n",
       "      <th>rain_1h</th>\n",
       "      <th>snow_1h</th>\n",
       "      <th>clouds_all</th>\n",
       "      <th>weather_main</th>\n",
       "      <th>weather_description</th>\n",
       "      <th>date_time</th>\n",
       "      <th>traffic_volume</th>\n",
       "    </tr>\n",
       "  </thead>\n",
       "  <tbody>\n",
       "  </tbody>\n",
       "</table>\n",
       "</div>"
      ],
      "text/plain": [
       "Empty DataFrame\n",
       "Columns: [holiday, temp, rain_1h, snow_1h, clouds_all, weather_main, weather_description, date_time, traffic_volume]\n",
       "Index: []"
      ]
     },
     "execution_count": 5,
     "metadata": {},
     "output_type": "execute_result"
    }
   ],
   "source": [
    "df_data.drop_duplicates(keep='last', inplace=True)\n",
    "df_data[df_data.duplicated()]"
   ]
  },
  {
   "cell_type": "markdown",
   "metadata": {},
   "source": [
    "Vemos Assima que não há mais nenhuma linha duplicada"
   ]
  },
  {
   "cell_type": "markdown",
   "metadata": {},
   "source": [
    "## Coluna Holiday Contém apenas None ?"
   ]
  },
  {
   "cell_type": "markdown",
   "metadata": {},
   "source": [
    "Aparentemente, a coluna Holiday apresenta valores iguais para todas as Intâncias, para confirmar :"
   ]
  },
  {
   "cell_type": "code",
   "execution_count": 6,
   "metadata": {},
   "outputs": [
    {
     "data": {
      "text/html": [
       "<div>\n",
       "<style scoped>\n",
       "    .dataframe tbody tr th:only-of-type {\n",
       "        vertical-align: middle;\n",
       "    }\n",
       "\n",
       "    .dataframe tbody tr th {\n",
       "        vertical-align: top;\n",
       "    }\n",
       "\n",
       "    .dataframe thead th {\n",
       "        text-align: right;\n",
       "    }\n",
       "</style>\n",
       "<table border=\"1\" class=\"dataframe\">\n",
       "  <thead>\n",
       "    <tr style=\"text-align: right;\">\n",
       "      <th></th>\n",
       "      <th>temp</th>\n",
       "      <th>rain_1h</th>\n",
       "      <th>snow_1h</th>\n",
       "      <th>clouds_all</th>\n",
       "      <th>weather_main</th>\n",
       "      <th>weather_description</th>\n",
       "      <th>date_time</th>\n",
       "      <th>traffic_volume</th>\n",
       "    </tr>\n",
       "    <tr>\n",
       "      <th>holiday</th>\n",
       "      <th></th>\n",
       "      <th></th>\n",
       "      <th></th>\n",
       "      <th></th>\n",
       "      <th></th>\n",
       "      <th></th>\n",
       "      <th></th>\n",
       "      <th></th>\n",
       "    </tr>\n",
       "  </thead>\n",
       "  <tbody>\n",
       "    <tr>\n",
       "      <th>Christmas Day</th>\n",
       "      <td>6</td>\n",
       "      <td>6</td>\n",
       "      <td>6</td>\n",
       "      <td>6</td>\n",
       "      <td>6</td>\n",
       "      <td>6</td>\n",
       "      <td>6</td>\n",
       "      <td>6</td>\n",
       "    </tr>\n",
       "    <tr>\n",
       "      <th>Columbus Day</th>\n",
       "      <td>5</td>\n",
       "      <td>5</td>\n",
       "      <td>5</td>\n",
       "      <td>5</td>\n",
       "      <td>5</td>\n",
       "      <td>5</td>\n",
       "      <td>5</td>\n",
       "      <td>5</td>\n",
       "    </tr>\n",
       "    <tr>\n",
       "      <th>Independence Day</th>\n",
       "      <td>5</td>\n",
       "      <td>5</td>\n",
       "      <td>5</td>\n",
       "      <td>5</td>\n",
       "      <td>5</td>\n",
       "      <td>5</td>\n",
       "      <td>5</td>\n",
       "      <td>5</td>\n",
       "    </tr>\n",
       "  </tbody>\n",
       "</table>\n",
       "</div>"
      ],
      "text/plain": [
       "                  temp  rain_1h  snow_1h  clouds_all  weather_main  \\\n",
       "holiday                                                              \n",
       "Christmas Day        6        6        6           6             6   \n",
       "Columbus Day         5        5        5           5             5   \n",
       "Independence Day     5        5        5           5             5   \n",
       "\n",
       "                  weather_description  date_time  traffic_volume  \n",
       "holiday                                                           \n",
       "Christmas Day                       6          6               6  \n",
       "Columbus Day                        5          5               5  \n",
       "Independence Day                    5          5               5  "
      ]
     },
     "execution_count": 6,
     "metadata": {},
     "output_type": "execute_result"
    }
   ],
   "source": [
    "df_data.groupby('holiday').count().head(3)"
   ]
  },
  {
   "cell_type": "markdown",
   "metadata": {},
   "source": [
    "Conforme visto era uma suspeita Falsa"
   ]
  },
  {
   "cell_type": "markdown",
   "metadata": {},
   "source": [
    "## Procurando E Removendo Outliers"
   ]
  },
  {
   "cell_type": "markdown",
   "metadata": {},
   "source": [
    "## Coluna Temperatura"
   ]
  },
  {
   "cell_type": "code",
   "execution_count": 7,
   "metadata": {},
   "outputs": [
    {
     "data": {
      "text/plain": [
       "<matplotlib.axes._subplots.AxesSubplot at 0x7f658cad0b10>"
      ]
     },
     "execution_count": 7,
     "metadata": {},
     "output_type": "execute_result"
    },
    {
     "data": {
      "image/png": "[encoded data removed]",
      "text/plain": [
       "<Figure size 432x288 with 1 Axes>"
      ]
     },
     "metadata": {
      "needs_background": "light"
     },
     "output_type": "display_data"
    }
   ],
   "source": [
    "df_data['temp'].plot.box()"
   ]
  },
  {
   "cell_type": "markdown",
   "metadata": {},
   "source": [
    "Conforme Visto, Parece ter uma temperatura próximo de 0, ao que tudo indica a temperatura está em Kelvin, isso seria equivalente a -273 graus celsius, uma temperatura muito estranho para o nosso cenário, iremos remover esse dado por precaução."
   ]
  },
  {
   "cell_type": "code",
   "execution_count": 8,
   "metadata": {},
   "outputs": [],
   "source": [
    "df_data = df_data[df_data['temp'] > 50]"
   ]
  },
  {
   "cell_type": "code",
   "execution_count": 9,
   "metadata": {},
   "outputs": [
    {
     "data": {
      "text/plain": [
       "<matplotlib.axes._subplots.AxesSubplot at 0x7f656c3b08d0>"
      ]
     },
     "execution_count": 9,
     "metadata": {},
     "output_type": "execute_result"
    },
    {
     "data": {
      "image/png": "[encoded data removed]",
      "text/plain": [
       "<Figure size 432x288 with 1 Axes>"
      ]
     },
     "metadata": {
      "needs_background": "light"
     },
     "output_type": "display_data"
    }
   ],
   "source": [
    "df_data['temp'].plot.box()"
   ]
  },
  {
   "cell_type": "markdown",
   "metadata": {},
   "source": [
    "## Coluna Chuva"
   ]
  },
  {
   "cell_type": "code",
   "execution_count": 10,
   "metadata": {},
   "outputs": [
    {
     "data": {
      "text/plain": [
       "<matplotlib.axes._subplots.AxesSubplot at 0x7f656c330110>"
      ]
     },
     "execution_count": 10,
     "metadata": {},
     "output_type": "execute_result"
    },
    {
     "data": {
      "image/png": "[encoded data removed]",
      "text/plain": [
       "<Figure size 432x288 with 1 Axes>"
      ]
     },
     "metadata": {
      "needs_background": "light"
     },
     "output_type": "display_data"
    }
   ],
   "source": [
    "df_data['rain_1h'].plot.box()"
   ]
  },
  {
   "cell_type": "markdown",
   "metadata": {},
   "source": [
    "Conforme Visto, enquanto a maioria dos dados se concentra próximo a 0, há alguns próximo a 10000, o que não faz sentido."
   ]
  },
  {
   "cell_type": "code",
   "execution_count": 11,
   "metadata": {},
   "outputs": [
    {
     "data": {
      "text/plain": [
       "<matplotlib.axes._subplots.AxesSubplot at 0x7f656c2a3090>"
      ]
     },
     "execution_count": 11,
     "metadata": {},
     "output_type": "execute_result"
    },
    {
     "data": {
      "image/png": "[encoded data removed]",
      "text/plain": [
       "<Figure size 432x288 with 1 Axes>"
      ]
     },
     "metadata": {
      "needs_background": "light"
     },
     "output_type": "display_data"
    }
   ],
   "source": [
    "df_data[df_data['rain_1h'] < 2000]['rain_1h'].plot.box()"
   ]
  },
  {
   "cell_type": "markdown",
   "metadata": {},
   "source": [
    "Conforme Visto, mesmo retirnado os outliers, ainda continuam alguns, através de algumas pesquisas, foi descoberto que a base de dados é do estado de Minnesota, em 2007, Minnesota conseguiu um recorde de chuva de 15.10 no condado de Hokah, o que daria por votla de 0.63 por hora, portanto, será retirando todas as amostras menor que esse valor."
   ]
  },
  {
   "cell_type": "code",
   "execution_count": 12,
   "metadata": {},
   "outputs": [],
   "source": [
    "df_data = df_data[df_data['rain_1h'] < 0.63]"
   ]
  },
  {
   "cell_type": "markdown",
   "metadata": {},
   "source": [
    "## Coluna Neve"
   ]
  },
  {
   "cell_type": "code",
   "execution_count": 13,
   "metadata": {},
   "outputs": [
    {
     "data": {
      "text/plain": [
       "<matplotlib.axes._subplots.AxesSubplot at 0x7f656c287350>"
      ]
     },
     "execution_count": 13,
     "metadata": {},
     "output_type": "execute_result"
    },
    {
     "data": {
      "image/png": "[encoded data removed]",
      "text/plain": [
       "<Figure size 432x288 with 1 Axes>"
      ]
     },
     "metadata": {
      "needs_background": "light"
     },
     "output_type": "display_data"
    }
   ],
   "source": [
    "df_data['snow_1h'].plot.box()"
   ]
  },
  {
   "cell_type": "markdown",
   "metadata": {},
   "source": [
    "Apesar do gráfico indicar vários outliers, através de pesquisas, Minnesota já obtever recorde de 914mm de neve em 24h, o que daria 38mm por hora, mostrando que os dados acima são possíveis."
   ]
  },
  {
   "cell_type": "markdown",
   "metadata": {},
   "source": [
    "## Nuvems"
   ]
  },
  {
   "cell_type": "code",
   "execution_count": 14,
   "metadata": {},
   "outputs": [
    {
     "data": {
      "text/plain": [
       "<matplotlib.axes._subplots.AxesSubplot at 0x7f656c184910>"
      ]
     },
     "execution_count": 14,
     "metadata": {},
     "output_type": "execute_result"
    },
    {
     "data": {
      "image/png": "[encoded data removed]",
      "text/plain": [
       "<Figure size 432x288 with 1 Axes>"
      ]
     },
     "metadata": {
      "needs_background": "light"
     },
     "output_type": "display_data"
    }
   ],
   "source": [
    "df_data['clouds_all'].plot.box()"
   ]
  },
  {
   "cell_type": "markdown",
   "metadata": {},
   "source": [
    "Conforme mostra o gráfico, nenhum possível outliear foi indicado."
   ]
  },
  {
   "cell_type": "markdown",
   "metadata": {},
   "source": [
    "## Volume de trafégo"
   ]
  },
  {
   "cell_type": "code",
   "execution_count": 15,
   "metadata": {},
   "outputs": [
    {
     "data": {
      "text/plain": [
       "<matplotlib.axes._subplots.AxesSubplot at 0x7f656c0eee10>"
      ]
     },
     "execution_count": 15,
     "metadata": {},
     "output_type": "execute_result"
    },
    {
     "data": {
      "image/png": "[encoded data removed]",
      "text/plain": [
       "<Figure size 432x288 with 1 Axes>"
      ]
     },
     "metadata": {
      "needs_background": "light"
     },
     "output_type": "display_data"
    }
   ],
   "source": [
    "df_data['traffic_volume'].plot.box()"
   ]
  },
  {
   "cell_type": "markdown",
   "metadata": {},
   "source": [
    "Nenhum possível outliear foi indicado."
   ]
  },
  {
   "cell_type": "markdown",
   "metadata": {},
   "source": [
    "Pode ser visto que as colunas númericas apresentam valores de mínimos e máximos diferentes, o que indifica uma necessidade de normalização."
   ]
  },
  {
   "cell_type": "markdown",
   "metadata": {},
   "source": [
    "## Converter Categorias Para Números"
   ]
  },
  {
   "cell_type": "code",
   "execution_count": 16,
   "metadata": {},
   "outputs": [
    {
     "data": {
      "text/html": [
       "<div>\n",
       "<style scoped>\n",
       "    .dataframe tbody tr th:only-of-type {\n",
       "        vertical-align: middle;\n",
       "    }\n",
       "\n",
       "    .dataframe tbody tr th {\n",
       "        vertical-align: top;\n",
       "    }\n",
       "\n",
       "    .dataframe thead th {\n",
       "        text-align: right;\n",
       "    }\n",
       "</style>\n",
       "<table border=\"1\" class=\"dataframe\">\n",
       "  <thead>\n",
       "    <tr style=\"text-align: right;\">\n",
       "      <th></th>\n",
       "      <th>holiday</th>\n",
       "      <th>temp</th>\n",
       "      <th>rain_1h</th>\n",
       "      <th>snow_1h</th>\n",
       "      <th>clouds_all</th>\n",
       "      <th>weather_main</th>\n",
       "      <th>weather_description</th>\n",
       "      <th>date_time</th>\n",
       "      <th>traffic_volume</th>\n",
       "    </tr>\n",
       "  </thead>\n",
       "  <tbody>\n",
       "    <tr>\n",
       "      <th>0</th>\n",
       "      <td>7</td>\n",
       "      <td>288.28</td>\n",
       "      <td>0.0</td>\n",
       "      <td>0.0</td>\n",
       "      <td>40</td>\n",
       "      <td>1</td>\n",
       "      <td>23</td>\n",
       "      <td>2012-10-02 09:00:00</td>\n",
       "      <td>5545</td>\n",
       "    </tr>\n",
       "    <tr>\n",
       "      <th>1</th>\n",
       "      <td>7</td>\n",
       "      <td>289.36</td>\n",
       "      <td>0.0</td>\n",
       "      <td>0.0</td>\n",
       "      <td>75</td>\n",
       "      <td>1</td>\n",
       "      <td>1</td>\n",
       "      <td>2012-10-02 10:00:00</td>\n",
       "      <td>4516</td>\n",
       "    </tr>\n",
       "  </tbody>\n",
       "</table>\n",
       "</div>"
      ],
      "text/plain": [
       "   holiday    temp  rain_1h  snow_1h  clouds_all  weather_main  \\\n",
       "0        7  288.28      0.0      0.0          40             1   \n",
       "1        7  289.36      0.0      0.0          75             1   \n",
       "\n",
       "   weather_description            date_time  traffic_volume  \n",
       "0                   23  2012-10-02 09:00:00            5545  \n",
       "1                    1  2012-10-02 10:00:00            4516  "
      ]
     },
     "execution_count": 16,
     "metadata": {},
     "output_type": "execute_result"
    }
   ],
   "source": [
    "LE = LabelEncoder()\n",
    "df_data['weather_main'] = LE.fit_transform(df_data['weather_main'])\n",
    "df_data['weather_description'] = LE.fit_transform(df_data['weather_description'])\n",
    "df_data['holiday'] = LE.fit_transform(df_data['holiday'])\n",
    "df_data.head(2)"
   ]
  },
  {
   "cell_type": "markdown",
   "metadata": {},
   "source": [
    "## Formatando A Data"
   ]
  },
  {
   "cell_type": "code",
   "execution_count": 17,
   "metadata": {},
   "outputs": [
    {
     "data": {
      "text/html": [
       "<div>\n",
       "<style scoped>\n",
       "    .dataframe tbody tr th:only-of-type {\n",
       "        vertical-align: middle;\n",
       "    }\n",
       "\n",
       "    .dataframe tbody tr th {\n",
       "        vertical-align: top;\n",
       "    }\n",
       "\n",
       "    .dataframe thead th {\n",
       "        text-align: right;\n",
       "    }\n",
       "</style>\n",
       "<table border=\"1\" class=\"dataframe\">\n",
       "  <thead>\n",
       "    <tr style=\"text-align: right;\">\n",
       "      <th></th>\n",
       "      <th>holiday</th>\n",
       "      <th>temp</th>\n",
       "      <th>rain_1h</th>\n",
       "      <th>snow_1h</th>\n",
       "      <th>clouds_all</th>\n",
       "      <th>weather_main</th>\n",
       "      <th>weather_description</th>\n",
       "      <th>date_time</th>\n",
       "      <th>day_of_week</th>\n",
       "      <th>traffic_volume</th>\n",
       "    </tr>\n",
       "  </thead>\n",
       "  <tbody>\n",
       "    <tr>\n",
       "      <th>0</th>\n",
       "      <td>7</td>\n",
       "      <td>288.28</td>\n",
       "      <td>0.0</td>\n",
       "      <td>0.0</td>\n",
       "      <td>40</td>\n",
       "      <td>1</td>\n",
       "      <td>23</td>\n",
       "      <td>9</td>\n",
       "      <td>1</td>\n",
       "      <td>5545</td>\n",
       "    </tr>\n",
       "    <tr>\n",
       "      <th>1</th>\n",
       "      <td>7</td>\n",
       "      <td>289.36</td>\n",
       "      <td>0.0</td>\n",
       "      <td>0.0</td>\n",
       "      <td>75</td>\n",
       "      <td>1</td>\n",
       "      <td>1</td>\n",
       "      <td>10</td>\n",
       "      <td>1</td>\n",
       "      <td>4516</td>\n",
       "    </tr>\n",
       "    <tr>\n",
       "      <th>2</th>\n",
       "      <td>7</td>\n",
       "      <td>289.58</td>\n",
       "      <td>0.0</td>\n",
       "      <td>0.0</td>\n",
       "      <td>90</td>\n",
       "      <td>1</td>\n",
       "      <td>18</td>\n",
       "      <td>11</td>\n",
       "      <td>1</td>\n",
       "      <td>4767</td>\n",
       "    </tr>\n",
       "    <tr>\n",
       "      <th>3</th>\n",
       "      <td>7</td>\n",
       "      <td>290.13</td>\n",
       "      <td>0.0</td>\n",
       "      <td>0.0</td>\n",
       "      <td>90</td>\n",
       "      <td>1</td>\n",
       "      <td>18</td>\n",
       "      <td>12</td>\n",
       "      <td>1</td>\n",
       "      <td>5026</td>\n",
       "    </tr>\n",
       "    <tr>\n",
       "      <th>4</th>\n",
       "      <td>7</td>\n",
       "      <td>291.14</td>\n",
       "      <td>0.0</td>\n",
       "      <td>0.0</td>\n",
       "      <td>75</td>\n",
       "      <td>1</td>\n",
       "      <td>1</td>\n",
       "      <td>13</td>\n",
       "      <td>1</td>\n",
       "      <td>4918</td>\n",
       "    </tr>\n",
       "    <tr>\n",
       "      <th>...</th>\n",
       "      <td>...</td>\n",
       "      <td>...</td>\n",
       "      <td>...</td>\n",
       "      <td>...</td>\n",
       "      <td>...</td>\n",
       "      <td>...</td>\n",
       "      <td>...</td>\n",
       "      <td>...</td>\n",
       "      <td>...</td>\n",
       "      <td>...</td>\n",
       "    </tr>\n",
       "    <tr>\n",
       "      <th>48199</th>\n",
       "      <td>7</td>\n",
       "      <td>283.45</td>\n",
       "      <td>0.0</td>\n",
       "      <td>0.0</td>\n",
       "      <td>75</td>\n",
       "      <td>1</td>\n",
       "      <td>1</td>\n",
       "      <td>19</td>\n",
       "      <td>6</td>\n",
       "      <td>3543</td>\n",
       "    </tr>\n",
       "    <tr>\n",
       "      <th>48200</th>\n",
       "      <td>7</td>\n",
       "      <td>282.76</td>\n",
       "      <td>0.0</td>\n",
       "      <td>0.0</td>\n",
       "      <td>90</td>\n",
       "      <td>1</td>\n",
       "      <td>18</td>\n",
       "      <td>20</td>\n",
       "      <td>6</td>\n",
       "      <td>2781</td>\n",
       "    </tr>\n",
       "    <tr>\n",
       "      <th>48201</th>\n",
       "      <td>7</td>\n",
       "      <td>282.73</td>\n",
       "      <td>0.0</td>\n",
       "      <td>0.0</td>\n",
       "      <td>90</td>\n",
       "      <td>10</td>\n",
       "      <td>20</td>\n",
       "      <td>21</td>\n",
       "      <td>6</td>\n",
       "      <td>2159</td>\n",
       "    </tr>\n",
       "    <tr>\n",
       "      <th>48202</th>\n",
       "      <td>7</td>\n",
       "      <td>282.09</td>\n",
       "      <td>0.0</td>\n",
       "      <td>0.0</td>\n",
       "      <td>90</td>\n",
       "      <td>1</td>\n",
       "      <td>18</td>\n",
       "      <td>22</td>\n",
       "      <td>6</td>\n",
       "      <td>1450</td>\n",
       "    </tr>\n",
       "    <tr>\n",
       "      <th>48203</th>\n",
       "      <td>7</td>\n",
       "      <td>282.12</td>\n",
       "      <td>0.0</td>\n",
       "      <td>0.0</td>\n",
       "      <td>90</td>\n",
       "      <td>1</td>\n",
       "      <td>18</td>\n",
       "      <td>23</td>\n",
       "      <td>6</td>\n",
       "      <td>954</td>\n",
       "    </tr>\n",
       "  </tbody>\n",
       "</table>\n",
       "<p>46396 rows × 10 columns</p>\n",
       "</div>"
      ],
      "text/plain": [
       "       holiday    temp  rain_1h  snow_1h  clouds_all  weather_main  \\\n",
       "0            7  288.28      0.0      0.0          40             1   \n",
       "1            7  289.36      0.0      0.0          75             1   \n",
       "2            7  289.58      0.0      0.0          90             1   \n",
       "3            7  290.13      0.0      0.0          90             1   \n",
       "4            7  291.14      0.0      0.0          75             1   \n",
       "...        ...     ...      ...      ...         ...           ...   \n",
       "48199        7  283.45      0.0      0.0          75             1   \n",
       "48200        7  282.76      0.0      0.0          90             1   \n",
       "48201        7  282.73      0.0      0.0          90            10   \n",
       "48202        7  282.09      0.0      0.0          90             1   \n",
       "48203        7  282.12      0.0      0.0          90             1   \n",
       "\n",
       "       weather_description  date_time  day_of_week  traffic_volume  \n",
       "0                       23          9            1            5545  \n",
       "1                        1         10            1            4516  \n",
       "2                       18         11            1            4767  \n",
       "3                       18         12            1            5026  \n",
       "4                        1         13            1            4918  \n",
       "...                    ...        ...          ...             ...  \n",
       "48199                    1         19            6            3543  \n",
       "48200                   18         20            6            2781  \n",
       "48201                   20         21            6            2159  \n",
       "48202                   18         22            6            1450  \n",
       "48203                   18         23            6             954  \n",
       "\n",
       "[46396 rows x 10 columns]"
      ]
     },
     "execution_count": 17,
     "metadata": {},
     "output_type": "execute_result"
    }
   ],
   "source": [
    "if data_is_formated:\n",
    "    traffic_volume = df_data.pop('traffic_volume')\n",
    "    df_data['date_time'] = pd.to_datetime(df_data['date_time'], errors='raise')\n",
    "    df_data['day_of_week'] = pd.to_datetime(df_data['date_time'], errors='raise').dt.dayofweek\n",
    "    df_data['date_time'] = pd.to_datetime(df_data['date_time'], errors='raise').dt.hour\n",
    "    df_data['traffic_volume'] = traffic_volume\n",
    "    data_is_formated = False\n",
    "df_data"
   ]
  },
  {
   "cell_type": "markdown",
   "metadata": {},
   "source": [
    "## Verificando Necessidade de Normalização"
   ]
  },
  {
   "cell_type": "code",
   "execution_count": 18,
   "metadata": {},
   "outputs": [
    {
     "data": {
      "text/html": [
       "<div>\n",
       "<style scoped>\n",
       "    .dataframe tbody tr th:only-of-type {\n",
       "        vertical-align: middle;\n",
       "    }\n",
       "\n",
       "    .dataframe tbody tr th {\n",
       "        vertical-align: top;\n",
       "    }\n",
       "\n",
       "    .dataframe thead th {\n",
       "        text-align: right;\n",
       "    }\n",
       "</style>\n",
       "<table border=\"1\" class=\"dataframe\">\n",
       "  <thead>\n",
       "    <tr style=\"text-align: right;\">\n",
       "      <th></th>\n",
       "      <th>holiday</th>\n",
       "      <th>temp</th>\n",
       "      <th>rain_1h</th>\n",
       "      <th>snow_1h</th>\n",
       "      <th>clouds_all</th>\n",
       "      <th>weather_main</th>\n",
       "      <th>weather_description</th>\n",
       "      <th>date_time</th>\n",
       "      <th>day_of_week</th>\n",
       "      <th>traffic_volume</th>\n",
       "    </tr>\n",
       "  </thead>\n",
       "  <tbody>\n",
       "    <tr>\n",
       "      <th>Min</th>\n",
       "      <td>0.0</td>\n",
       "      <td>243.39</td>\n",
       "      <td>0.00</td>\n",
       "      <td>0.00</td>\n",
       "      <td>0.0</td>\n",
       "      <td>0.0</td>\n",
       "      <td>0.0</td>\n",
       "      <td>0.0</td>\n",
       "      <td>0.0</td>\n",
       "      <td>0.0</td>\n",
       "    </tr>\n",
       "    <tr>\n",
       "      <th>Max</th>\n",
       "      <td>11.0</td>\n",
       "      <td>310.07</td>\n",
       "      <td>0.62</td>\n",
       "      <td>0.51</td>\n",
       "      <td>100.0</td>\n",
       "      <td>10.0</td>\n",
       "      <td>34.0</td>\n",
       "      <td>23.0</td>\n",
       "      <td>6.0</td>\n",
       "      <td>7280.0</td>\n",
       "    </tr>\n",
       "  </tbody>\n",
       "</table>\n",
       "</div>"
      ],
      "text/plain": [
       "     holiday    temp  rain_1h  snow_1h  clouds_all  weather_main  \\\n",
       "Min      0.0  243.39     0.00     0.00         0.0           0.0   \n",
       "Max     11.0  310.07     0.62     0.51       100.0          10.0   \n",
       "\n",
       "     weather_description  date_time  day_of_week  traffic_volume  \n",
       "Min                  0.0        0.0          0.0             0.0  \n",
       "Max                 34.0       23.0          6.0          7280.0  "
      ]
     },
     "execution_count": 18,
     "metadata": {},
     "output_type": "execute_result"
    }
   ],
   "source": [
    "pd.DataFrame([df_data.min(), df_data.max()], index= ['Min', 'Max'])"
   ]
  },
  {
   "cell_type": "markdown",
   "metadata": {},
   "source": [
    "## Normalizando Dados"
   ]
  },
  {
   "cell_type": "markdown",
   "metadata": {},
   "source": [
    "O primeiro passo para a normalização é obter todas as colunas númericas"
   ]
  },
  {
   "cell_type": "code",
   "execution_count": 19,
   "metadata": {},
   "outputs": [
    {
     "data": {
      "text/html": [
       "<div>\n",
       "<style scoped>\n",
       "    .dataframe tbody tr th:only-of-type {\n",
       "        vertical-align: middle;\n",
       "    }\n",
       "\n",
       "    .dataframe tbody tr th {\n",
       "        vertical-align: top;\n",
       "    }\n",
       "\n",
       "    .dataframe thead th {\n",
       "        text-align: right;\n",
       "    }\n",
       "</style>\n",
       "<table border=\"1\" class=\"dataframe\">\n",
       "  <thead>\n",
       "    <tr style=\"text-align: right;\">\n",
       "      <th></th>\n",
       "      <th>holiday</th>\n",
       "      <th>temp</th>\n",
       "      <th>rain_1h</th>\n",
       "      <th>snow_1h</th>\n",
       "      <th>clouds_all</th>\n",
       "      <th>weather_main</th>\n",
       "      <th>weather_description</th>\n",
       "      <th>date_time</th>\n",
       "      <th>day_of_week</th>\n",
       "      <th>traffic_volume</th>\n",
       "    </tr>\n",
       "  </thead>\n",
       "  <tbody>\n",
       "    <tr>\n",
       "      <th>0</th>\n",
       "      <td>7</td>\n",
       "      <td>288.28</td>\n",
       "      <td>0.0</td>\n",
       "      <td>0.0</td>\n",
       "      <td>40</td>\n",
       "      <td>1</td>\n",
       "      <td>23</td>\n",
       "      <td>9</td>\n",
       "      <td>1</td>\n",
       "      <td>5545</td>\n",
       "    </tr>\n",
       "  </tbody>\n",
       "</table>\n",
       "</div>"
      ],
      "text/plain": [
       "   holiday    temp  rain_1h  snow_1h  clouds_all  weather_main  \\\n",
       "0        7  288.28      0.0      0.0          40             1   \n",
       "\n",
       "   weather_description  date_time  day_of_week  traffic_volume  \n",
       "0                   23          9            1            5545  "
      ]
     },
     "execution_count": 19,
     "metadata": {},
     "output_type": "execute_result"
    }
   ],
   "source": [
    "numeric_types = ['int16', 'int32', 'int64', 'float16', 'float32', 'float64']\n",
    "dfOnlyNumericsData = df_data.select_dtypes(numeric_types)\n",
    "dfOnlyNumericsData.head(1)"
   ]
  },
  {
   "cell_type": "markdown",
   "metadata": {},
   "source": [
    "Agora podemos normalizar os dados colocando todos entre 0 e 1"
   ]
  },
  {
   "cell_type": "code",
   "execution_count": 20,
   "metadata": {},
   "outputs": [],
   "source": [
    "df_normalized = df_data.copy()\n",
    "for column in dfOnlyNumericsData:\n",
    "    if column == 'traffic_volume':\n",
    "        break\n",
    "    normalized_column = (dfOnlyNumericsData[column] - dfOnlyNumericsData[column].min())/(dfOnlyNumericsData[column].max() - dfOnlyNumericsData[column].min())\n",
    "    df_normalized[column] = normalized_column"
   ]
  },
  {
   "cell_type": "code",
   "execution_count": 21,
   "metadata": {},
   "outputs": [
    {
     "data": {
      "text/html": [
       "<div>\n",
       "<style scoped>\n",
       "    .dataframe tbody tr th:only-of-type {\n",
       "        vertical-align: middle;\n",
       "    }\n",
       "\n",
       "    .dataframe tbody tr th {\n",
       "        vertical-align: top;\n",
       "    }\n",
       "\n",
       "    .dataframe thead th {\n",
       "        text-align: right;\n",
       "    }\n",
       "</style>\n",
       "<table border=\"1\" class=\"dataframe\">\n",
       "  <thead>\n",
       "    <tr style=\"text-align: right;\">\n",
       "      <th></th>\n",
       "      <th>holiday</th>\n",
       "      <th>temp</th>\n",
       "      <th>rain_1h</th>\n",
       "      <th>snow_1h</th>\n",
       "      <th>clouds_all</th>\n",
       "      <th>weather_main</th>\n",
       "      <th>weather_description</th>\n",
       "      <th>date_time</th>\n",
       "      <th>day_of_week</th>\n",
       "      <th>traffic_volume</th>\n",
       "    </tr>\n",
       "  </thead>\n",
       "  <tbody>\n",
       "    <tr>\n",
       "      <th>Min</th>\n",
       "      <td>0.0</td>\n",
       "      <td>0.0</td>\n",
       "      <td>0.0</td>\n",
       "      <td>0.0</td>\n",
       "      <td>0.0</td>\n",
       "      <td>0.0</td>\n",
       "      <td>0.0</td>\n",
       "      <td>0.0</td>\n",
       "      <td>0.0</td>\n",
       "      <td>0.0</td>\n",
       "    </tr>\n",
       "    <tr>\n",
       "      <th>Max</th>\n",
       "      <td>1.0</td>\n",
       "      <td>1.0</td>\n",
       "      <td>1.0</td>\n",
       "      <td>1.0</td>\n",
       "      <td>1.0</td>\n",
       "      <td>1.0</td>\n",
       "      <td>1.0</td>\n",
       "      <td>1.0</td>\n",
       "      <td>1.0</td>\n",
       "      <td>7280.0</td>\n",
       "    </tr>\n",
       "  </tbody>\n",
       "</table>\n",
       "</div>"
      ],
      "text/plain": [
       "     holiday  temp  rain_1h  snow_1h  clouds_all  weather_main  \\\n",
       "Min      0.0   0.0      0.0      0.0         0.0           0.0   \n",
       "Max      1.0   1.0      1.0      1.0         1.0           1.0   \n",
       "\n",
       "     weather_description  date_time  day_of_week  traffic_volume  \n",
       "Min                  0.0        0.0          0.0             0.0  \n",
       "Max                  1.0        1.0          1.0          7280.0  "
      ]
     },
     "execution_count": 21,
     "metadata": {},
     "output_type": "execute_result"
    }
   ],
   "source": [
    "pd.DataFrame([df_normalized.min(), df_normalized.max()], index= ['Min', 'Max'])"
   ]
  },
  {
   "cell_type": "markdown",
   "metadata": {},
   "source": [
    "Conforme visto, os dados númericos foram normalizados"
   ]
  },
  {
   "cell_type": "markdown",
   "metadata": {},
   "source": [
    "## Matriz de Correlação"
   ]
  },
  {
   "cell_type": "code",
   "execution_count": 22,
   "metadata": {},
   "outputs": [
    {
     "data": {
      "text/html": [
       "<style  type=\"text/css\" >\n",
       "    #T_64c6336c_6075_11ea_802a_0242ac110004row0_col0 {\n",
       "            background-color:  #b40426;\n",
       "            color:  #f1f1f1;\n",
       "        }    #T_64c6336c_6075_11ea_802a_0242ac110004row0_col1 {\n",
       "            background-color:  #3b4cc0;\n",
       "            color:  #f1f1f1;\n",
       "        }    #T_64c6336c_6075_11ea_802a_0242ac110004row0_col2 {\n",
       "            background-color:  #3b4cc0;\n",
       "            color:  #f1f1f1;\n",
       "        }    #T_64c6336c_6075_11ea_802a_0242ac110004row0_col3 {\n",
       "            background-color:  #3b4cc0;\n",
       "            color:  #f1f1f1;\n",
       "        }    #T_64c6336c_6075_11ea_802a_0242ac110004row0_col4 {\n",
       "            background-color:  #3b4cc0;\n",
       "            color:  #f1f1f1;\n",
       "        }    #T_64c6336c_6075_11ea_802a_0242ac110004row0_col5 {\n",
       "            background-color:  #3b4cc0;\n",
       "            color:  #f1f1f1;\n",
       "        }    #T_64c6336c_6075_11ea_802a_0242ac110004row0_col6 {\n",
       "            background-color:  #3c4ec2;\n",
       "            color:  #f1f1f1;\n",
       "        }    #T_64c6336c_6075_11ea_802a_0242ac110004row0_col7 {\n",
       "            background-color:  #4055c8;\n",
       "            color:  #f1f1f1;\n",
       "        }    #T_64c6336c_6075_11ea_802a_0242ac110004row0_col8 {\n",
       "            background-color:  #3f53c6;\n",
       "            color:  #f1f1f1;\n",
       "        }    #T_64c6336c_6075_11ea_802a_0242ac110004row0_col9 {\n",
       "            background-color:  #3e51c5;\n",
       "            color:  #f1f1f1;\n",
       "        }    #T_64c6336c_6075_11ea_802a_0242ac110004row1_col0 {\n",
       "            background-color:  #3b4cc0;\n",
       "            color:  #f1f1f1;\n",
       "        }    #T_64c6336c_6075_11ea_802a_0242ac110004row1_col1 {\n",
       "            background-color:  #b40426;\n",
       "            color:  #f1f1f1;\n",
       "        }    #T_64c6336c_6075_11ea_802a_0242ac110004row1_col2 {\n",
       "            background-color:  #516ddb;\n",
       "            color:  #000000;\n",
       "        }    #T_64c6336c_6075_11ea_802a_0242ac110004row1_col3 {\n",
       "            background-color:  #4055c8;\n",
       "            color:  #f1f1f1;\n",
       "        }    #T_64c6336c_6075_11ea_802a_0242ac110004row1_col4 {\n",
       "            background-color:  #6180e9;\n",
       "            color:  #000000;\n",
       "        }    #T_64c6336c_6075_11ea_802a_0242ac110004row1_col5 {\n",
       "            background-color:  #4f69d9;\n",
       "            color:  #000000;\n",
       "        }    #T_64c6336c_6075_11ea_802a_0242ac110004row1_col6 {\n",
       "            background-color:  #445acc;\n",
       "            color:  #f1f1f1;\n",
       "        }    #T_64c6336c_6075_11ea_802a_0242ac110004row1_col7 {\n",
       "            background-color:  #5f7fe8;\n",
       "            color:  #000000;\n",
       "        }    #T_64c6336c_6075_11ea_802a_0242ac110004row1_col8 {\n",
       "            background-color:  #3b4cc0;\n",
       "            color:  #f1f1f1;\n",
       "        }    #T_64c6336c_6075_11ea_802a_0242ac110004row1_col9 {\n",
       "            background-color:  #6485ec;\n",
       "            color:  #000000;\n",
       "        }    #T_64c6336c_6075_11ea_802a_0242ac110004row2_col0 {\n",
       "            background-color:  #3c4ec2;\n",
       "            color:  #f1f1f1;\n",
       "        }    #T_64c6336c_6075_11ea_802a_0242ac110004row2_col1 {\n",
       "            background-color:  #536edd;\n",
       "            color:  #000000;\n",
       "        }    #T_64c6336c_6075_11ea_802a_0242ac110004row2_col2 {\n",
       "            background-color:  #b40426;\n",
       "            color:  #f1f1f1;\n",
       "        }    #T_64c6336c_6075_11ea_802a_0242ac110004row2_col3 {\n",
       "            background-color:  #3c4ec2;\n",
       "            color:  #f1f1f1;\n",
       "        }    #T_64c6336c_6075_11ea_802a_0242ac110004row2_col4 {\n",
       "            background-color:  #506bda;\n",
       "            color:  #000000;\n",
       "        }    #T_64c6336c_6075_11ea_802a_0242ac110004row2_col5 {\n",
       "            background-color:  #7ea1fa;\n",
       "            color:  #000000;\n",
       "        }    #T_64c6336c_6075_11ea_802a_0242ac110004row2_col6 {\n",
       "            background-color:  #516ddb;\n",
       "            color:  #000000;\n",
       "        }    #T_64c6336c_6075_11ea_802a_0242ac110004row2_col7 {\n",
       "            background-color:  #3b4cc0;\n",
       "            color:  #f1f1f1;\n",
       "        }    #T_64c6336c_6075_11ea_802a_0242ac110004row2_col8 {\n",
       "            background-color:  #4055c8;\n",
       "            color:  #f1f1f1;\n",
       "        }    #T_64c6336c_6075_11ea_802a_0242ac110004row2_col9 {\n",
       "            background-color:  #3c4ec2;\n",
       "            color:  #f1f1f1;\n",
       "        }    #T_64c6336c_6075_11ea_802a_0242ac110004row3_col0 {\n",
       "            background-color:  #3b4cc0;\n",
       "            color:  #f1f1f1;\n",
       "        }    #T_64c6336c_6075_11ea_802a_0242ac110004row3_col1 {\n",
       "            background-color:  #4055c8;\n",
       "            color:  #f1f1f1;\n",
       "        }    #T_64c6336c_6075_11ea_802a_0242ac110004row3_col2 {\n",
       "            background-color:  #3b4cc0;\n",
       "            color:  #f1f1f1;\n",
       "        }    #T_64c6336c_6075_11ea_802a_0242ac110004row3_col3 {\n",
       "            background-color:  #b40426;\n",
       "            color:  #f1f1f1;\n",
       "        }    #T_64c6336c_6075_11ea_802a_0242ac110004row3_col4 {\n",
       "            background-color:  #4055c8;\n",
       "            color:  #f1f1f1;\n",
       "        }    #T_64c6336c_6075_11ea_802a_0242ac110004row3_col5 {\n",
       "            background-color:  #455cce;\n",
       "            color:  #f1f1f1;\n",
       "        }    #T_64c6336c_6075_11ea_802a_0242ac110004row3_col6 {\n",
       "            background-color:  #3b4cc0;\n",
       "            color:  #f1f1f1;\n",
       "        }    #T_64c6336c_6075_11ea_802a_0242ac110004row3_col7 {\n",
       "            background-color:  #3d50c3;\n",
       "            color:  #f1f1f1;\n",
       "        }    #T_64c6336c_6075_11ea_802a_0242ac110004row3_col8 {\n",
       "            background-color:  #3e51c5;\n",
       "            color:  #f1f1f1;\n",
       "        }    #T_64c6336c_6075_11ea_802a_0242ac110004row3_col9 {\n",
       "            background-color:  #3b4cc0;\n",
       "            color:  #f1f1f1;\n",
       "        }    #T_64c6336c_6075_11ea_802a_0242ac110004row4_col0 {\n",
       "            background-color:  #3d50c3;\n",
       "            color:  #f1f1f1;\n",
       "        }    #T_64c6336c_6075_11ea_802a_0242ac110004row4_col1 {\n",
       "            background-color:  #6384eb;\n",
       "            color:  #000000;\n",
       "        }    #T_64c6336c_6075_11ea_802a_0242ac110004row4_col2 {\n",
       "            background-color:  #516ddb;\n",
       "            color:  #000000;\n",
       "        }    #T_64c6336c_6075_11ea_802a_0242ac110004row4_col3 {\n",
       "            background-color:  #4358cb;\n",
       "            color:  #f1f1f1;\n",
       "        }    #T_64c6336c_6075_11ea_802a_0242ac110004row4_col4 {\n",
       "            background-color:  #b40426;\n",
       "            color:  #f1f1f1;\n",
       "        }    #T_64c6336c_6075_11ea_802a_0242ac110004row4_col5 {\n",
       "            background-color:  #dcdddd;\n",
       "            color:  #000000;\n",
       "        }    #T_64c6336c_6075_11ea_802a_0242ac110004row4_col6 {\n",
       "            background-color:  #dddcdc;\n",
       "            color:  #000000;\n",
       "        }    #T_64c6336c_6075_11ea_802a_0242ac110004row4_col7 {\n",
       "            background-color:  #4b64d5;\n",
       "            color:  #f1f1f1;\n",
       "        }    #T_64c6336c_6075_11ea_802a_0242ac110004row4_col8 {\n",
       "            background-color:  #455cce;\n",
       "            color:  #f1f1f1;\n",
       "        }    #T_64c6336c_6075_11ea_802a_0242ac110004row4_col9 {\n",
       "            background-color:  #4e68d8;\n",
       "            color:  #000000;\n",
       "        }    #T_64c6336c_6075_11ea_802a_0242ac110004row5_col0 {\n",
       "            background-color:  #3b4cc0;\n",
       "            color:  #f1f1f1;\n",
       "        }    #T_64c6336c_6075_11ea_802a_0242ac110004row5_col1 {\n",
       "            background-color:  #506bda;\n",
       "            color:  #000000;\n",
       "        }    #T_64c6336c_6075_11ea_802a_0242ac110004row5_col2 {\n",
       "            background-color:  #7ea1fa;\n",
       "            color:  #000000;\n",
       "        }    #T_64c6336c_6075_11ea_802a_0242ac110004row5_col3 {\n",
       "            background-color:  #465ecf;\n",
       "            color:  #f1f1f1;\n",
       "        }    #T_64c6336c_6075_11ea_802a_0242ac110004row5_col4 {\n",
       "            background-color:  #dbdcde;\n",
       "            color:  #000000;\n",
       "        }    #T_64c6336c_6075_11ea_802a_0242ac110004row5_col5 {\n",
       "            background-color:  #b40426;\n",
       "            color:  #f1f1f1;\n",
       "        }    #T_64c6336c_6075_11ea_802a_0242ac110004row5_col6 {\n",
       "            background-color:  #8db0fe;\n",
       "            color:  #000000;\n",
       "        }    #T_64c6336c_6075_11ea_802a_0242ac110004row5_col7 {\n",
       "            background-color:  #4a63d3;\n",
       "            color:  #f1f1f1;\n",
       "        }    #T_64c6336c_6075_11ea_802a_0242ac110004row5_col8 {\n",
       "            background-color:  #455cce;\n",
       "            color:  #f1f1f1;\n",
       "        }    #T_64c6336c_6075_11ea_802a_0242ac110004row5_col9 {\n",
       "            background-color:  #445acc;\n",
       "            color:  #f1f1f1;\n",
       "        }    #T_64c6336c_6075_11ea_802a_0242ac110004row6_col0 {\n",
       "            background-color:  #3c4ec2;\n",
       "            color:  #f1f1f1;\n",
       "        }    #T_64c6336c_6075_11ea_802a_0242ac110004row6_col1 {\n",
       "            background-color:  #445acc;\n",
       "            color:  #f1f1f1;\n",
       "        }    #T_64c6336c_6075_11ea_802a_0242ac110004row6_col2 {\n",
       "            background-color:  #506bda;\n",
       "            color:  #000000;\n",
       "        }    #T_64c6336c_6075_11ea_802a_0242ac110004row6_col3 {\n",
       "            background-color:  #3b4cc0;\n",
       "            color:  #f1f1f1;\n",
       "        }    #T_64c6336c_6075_11ea_802a_0242ac110004row6_col4 {\n",
       "            background-color:  #dcdddd;\n",
       "            color:  #000000;\n",
       "        }    #T_64c6336c_6075_11ea_802a_0242ac110004row6_col5 {\n",
       "            background-color:  #8db0fe;\n",
       "            color:  #000000;\n",
       "        }    #T_64c6336c_6075_11ea_802a_0242ac110004row6_col6 {\n",
       "            background-color:  #b40426;\n",
       "            color:  #f1f1f1;\n",
       "        }    #T_64c6336c_6075_11ea_802a_0242ac110004row6_col7 {\n",
       "            background-color:  #3e51c5;\n",
       "            color:  #f1f1f1;\n",
       "        }    #T_64c6336c_6075_11ea_802a_0242ac110004row6_col8 {\n",
       "            background-color:  #4257c9;\n",
       "            color:  #f1f1f1;\n",
       "        }    #T_64c6336c_6075_11ea_802a_0242ac110004row6_col9 {\n",
       "            background-color:  #4b64d5;\n",
       "            color:  #f1f1f1;\n",
       "        }    #T_64c6336c_6075_11ea_802a_0242ac110004row7_col0 {\n",
       "            background-color:  #4257c9;\n",
       "            color:  #f1f1f1;\n",
       "        }    #T_64c6336c_6075_11ea_802a_0242ac110004row7_col1 {\n",
       "            background-color:  #5f7fe8;\n",
       "            color:  #000000;\n",
       "        }    #T_64c6336c_6075_11ea_802a_0242ac110004row7_col2 {\n",
       "            background-color:  #3b4cc0;\n",
       "            color:  #f1f1f1;\n",
       "        }    #T_64c6336c_6075_11ea_802a_0242ac110004row7_col3 {\n",
       "            background-color:  #3d50c3;\n",
       "            color:  #f1f1f1;\n",
       "        }    #T_64c6336c_6075_11ea_802a_0242ac110004row7_col4 {\n",
       "            background-color:  #4961d2;\n",
       "            color:  #f1f1f1;\n",
       "        }    #T_64c6336c_6075_11ea_802a_0242ac110004row7_col5 {\n",
       "            background-color:  #4961d2;\n",
       "            color:  #f1f1f1;\n",
       "        }    #T_64c6336c_6075_11ea_802a_0242ac110004row7_col6 {\n",
       "            background-color:  #3e51c5;\n",
       "            color:  #f1f1f1;\n",
       "        }    #T_64c6336c_6075_11ea_802a_0242ac110004row7_col7 {\n",
       "            background-color:  #b40426;\n",
       "            color:  #f1f1f1;\n",
       "        }    #T_64c6336c_6075_11ea_802a_0242ac110004row7_col8 {\n",
       "            background-color:  #3b4cc0;\n",
       "            color:  #f1f1f1;\n",
       "        }    #T_64c6336c_6075_11ea_802a_0242ac110004row7_col9 {\n",
       "            background-color:  #afcafc;\n",
       "            color:  #000000;\n",
       "        }    #T_64c6336c_6075_11ea_802a_0242ac110004row8_col0 {\n",
       "            background-color:  #4055c8;\n",
       "            color:  #f1f1f1;\n",
       "        }    #T_64c6336c_6075_11ea_802a_0242ac110004row8_col1 {\n",
       "            background-color:  #3b4cc0;\n",
       "            color:  #f1f1f1;\n",
       "        }    #T_64c6336c_6075_11ea_802a_0242ac110004row8_col2 {\n",
       "            background-color:  #4055c8;\n",
       "            color:  #f1f1f1;\n",
       "        }    #T_64c6336c_6075_11ea_802a_0242ac110004row8_col3 {\n",
       "            background-color:  #3e51c5;\n",
       "            color:  #f1f1f1;\n",
       "        }    #T_64c6336c_6075_11ea_802a_0242ac110004row8_col4 {\n",
       "            background-color:  #445acc;\n",
       "            color:  #f1f1f1;\n",
       "        }    #T_64c6336c_6075_11ea_802a_0242ac110004row8_col5 {\n",
       "            background-color:  #455cce;\n",
       "            color:  #f1f1f1;\n",
       "        }    #T_64c6336c_6075_11ea_802a_0242ac110004row8_col6 {\n",
       "            background-color:  #4257c9;\n",
       "            color:  #f1f1f1;\n",
       "        }    #T_64c6336c_6075_11ea_802a_0242ac110004row8_col7 {\n",
       "            background-color:  #3b4cc0;\n",
       "            color:  #f1f1f1;\n",
       "        }    #T_64c6336c_6075_11ea_802a_0242ac110004row8_col8 {\n",
       "            background-color:  #b40426;\n",
       "            color:  #f1f1f1;\n",
       "        }    #T_64c6336c_6075_11ea_802a_0242ac110004row8_col9 {\n",
       "            background-color:  #6788ee;\n",
       "            color:  #000000;\n",
       "        }    #T_64c6336c_6075_11ea_802a_0242ac110004row9_col0 {\n",
       "            background-color:  #3f53c6;\n",
       "            color:  #f1f1f1;\n",
       "        }    #T_64c6336c_6075_11ea_802a_0242ac110004row9_col1 {\n",
       "            background-color:  #6687ed;\n",
       "            color:  #000000;\n",
       "        }    #T_64c6336c_6075_11ea_802a_0242ac110004row9_col2 {\n",
       "            background-color:  #3d50c3;\n",
       "            color:  #f1f1f1;\n",
       "        }    #T_64c6336c_6075_11ea_802a_0242ac110004row9_col3 {\n",
       "            background-color:  #3c4ec2;\n",
       "            color:  #f1f1f1;\n",
       "        }    #T_64c6336c_6075_11ea_802a_0242ac110004row9_col4 {\n",
       "            background-color:  #4c66d6;\n",
       "            color:  #000000;\n",
       "        }    #T_64c6336c_6075_11ea_802a_0242ac110004row9_col5 {\n",
       "            background-color:  #455cce;\n",
       "            color:  #f1f1f1;\n",
       "        }    #T_64c6336c_6075_11ea_802a_0242ac110004row9_col6 {\n",
       "            background-color:  #4b64d5;\n",
       "            color:  #f1f1f1;\n",
       "        }    #T_64c6336c_6075_11ea_802a_0242ac110004row9_col7 {\n",
       "            background-color:  #b1cbfc;\n",
       "            color:  #000000;\n",
       "        }    #T_64c6336c_6075_11ea_802a_0242ac110004row9_col8 {\n",
       "            background-color:  #688aef;\n",
       "            color:  #000000;\n",
       "        }    #T_64c6336c_6075_11ea_802a_0242ac110004row9_col9 {\n",
       "            background-color:  #b40426;\n",
       "            color:  #f1f1f1;\n",
       "        }</style><table id=\"T_64c6336c_6075_11ea_802a_0242ac110004\" ><thead>    <tr>        <th class=\"blank level0\" ></th>        <th class=\"col_heading level0 col0\" >holiday</th>        <th class=\"col_heading level0 col1\" >temp</th>        <th class=\"col_heading level0 col2\" >rain_1h</th>        <th class=\"col_heading level0 col3\" >snow_1h</th>        <th class=\"col_heading level0 col4\" >clouds_all</th>        <th class=\"col_heading level0 col5\" >weather_main</th>        <th class=\"col_heading level0 col6\" >weather_description</th>        <th class=\"col_heading level0 col7\" >date_time</th>        <th class=\"col_heading level0 col8\" >day_of_week</th>        <th class=\"col_heading level0 col9\" >traffic_volume</th>    </tr></thead><tbody>\n",
       "                <tr>\n",
       "                        <th id=\"T_64c6336c_6075_11ea_802a_0242ac110004level0_row0\" class=\"row_heading level0 row0\" >holiday</th>\n",
       "                        <td id=\"T_64c6336c_6075_11ea_802a_0242ac110004row0_col0\" class=\"data row0 col0\" >1</td>\n",
       "                        <td id=\"T_64c6336c_6075_11ea_802a_0242ac110004row0_col1\" class=\"data row0 col1\" >0.00037</td>\n",
       "                        <td id=\"T_64c6336c_6075_11ea_802a_0242ac110004row0_col2\" class=\"data row0 col2\" >0.006</td>\n",
       "                        <td id=\"T_64c6336c_6075_11ea_802a_0242ac110004row0_col3\" class=\"data row0 col3\" >0.00042</td>\n",
       "                        <td id=\"T_64c6336c_6075_11ea_802a_0242ac110004row0_col4\" class=\"data row0 col4\" >0.0082</td>\n",
       "                        <td id=\"T_64c6336c_6075_11ea_802a_0242ac110004row0_col5\" class=\"data row0 col5\" >0.0029</td>\n",
       "                        <td id=\"T_64c6336c_6075_11ea_802a_0242ac110004row0_col6\" class=\"data row0 col6\" >0.0081</td>\n",
       "                        <td id=\"T_64c6336c_6075_11ea_802a_0242ac110004row0_col7\" class=\"data row0 col7\" >0.025</td>\n",
       "                        <td id=\"T_64c6336c_6075_11ea_802a_0242ac110004row0_col8\" class=\"data row0 col8\" >0.02</td>\n",
       "                        <td id=\"T_64c6336c_6075_11ea_802a_0242ac110004row0_col9\" class=\"data row0 col9\" >0.018</td>\n",
       "            </tr>\n",
       "            <tr>\n",
       "                        <th id=\"T_64c6336c_6075_11ea_802a_0242ac110004level0_row1\" class=\"row_heading level0 row1\" >temp</th>\n",
       "                        <td id=\"T_64c6336c_6075_11ea_802a_0242ac110004row1_col0\" class=\"data row1 col0\" >0.00037</td>\n",
       "                        <td id=\"T_64c6336c_6075_11ea_802a_0242ac110004row1_col1\" class=\"data row1 col1\" >1</td>\n",
       "                        <td id=\"T_64c6336c_6075_11ea_802a_0242ac110004row1_col2\" class=\"data row1 col2\" >0.081</td>\n",
       "                        <td id=\"T_64c6336c_6075_11ea_802a_0242ac110004row1_col3\" class=\"data row1 col3\" >0.022</td>\n",
       "                        <td id=\"T_64c6336c_6075_11ea_802a_0242ac110004row1_col4\" class=\"data row1 col4\" >0.13</td>\n",
       "                        <td id=\"T_64c6336c_6075_11ea_802a_0242ac110004row1_col5\" class=\"data row1 col5\" >0.073</td>\n",
       "                        <td id=\"T_64c6336c_6075_11ea_802a_0242ac110004row1_col6\" class=\"data row1 col6\" >0.034</td>\n",
       "                        <td id=\"T_64c6336c_6075_11ea_802a_0242ac110004row1_col7\" class=\"data row1 col7\" >0.12</td>\n",
       "                        <td id=\"T_64c6336c_6075_11ea_802a_0242ac110004row1_col8\" class=\"data row1 col8\" >0.0031</td>\n",
       "                        <td id=\"T_64c6336c_6075_11ea_802a_0242ac110004row1_col9\" class=\"data row1 col9\" >0.14</td>\n",
       "            </tr>\n",
       "            <tr>\n",
       "                        <th id=\"T_64c6336c_6075_11ea_802a_0242ac110004level0_row2\" class=\"row_heading level0 row2\" >rain_1h</th>\n",
       "                        <td id=\"T_64c6336c_6075_11ea_802a_0242ac110004row2_col0\" class=\"data row2 col0\" >0.006</td>\n",
       "                        <td id=\"T_64c6336c_6075_11ea_802a_0242ac110004row2_col1\" class=\"data row2 col1\" >0.081</td>\n",
       "                        <td id=\"T_64c6336c_6075_11ea_802a_0242ac110004row2_col2\" class=\"data row2 col2\" >1</td>\n",
       "                        <td id=\"T_64c6336c_6075_11ea_802a_0242ac110004row2_col3\" class=\"data row2 col3\" >0.005</td>\n",
       "                        <td id=\"T_64c6336c_6075_11ea_802a_0242ac110004row2_col4\" class=\"data row2 col4\" >0.078</td>\n",
       "                        <td id=\"T_64c6336c_6075_11ea_802a_0242ac110004row2_col5\" class=\"data row2 col5\" >0.21</td>\n",
       "                        <td id=\"T_64c6336c_6075_11ea_802a_0242ac110004row2_col6\" class=\"data row2 col6\" >0.077</td>\n",
       "                        <td id=\"T_64c6336c_6075_11ea_802a_0242ac110004row2_col7\" class=\"data row2 col7\" >0.0039</td>\n",
       "                        <td id=\"T_64c6336c_6075_11ea_802a_0242ac110004row2_col8\" class=\"data row2 col8\" >0.024</td>\n",
       "                        <td id=\"T_64c6336c_6075_11ea_802a_0242ac110004row2_col9\" class=\"data row2 col9\" >0.013</td>\n",
       "            </tr>\n",
       "            <tr>\n",
       "                        <th id=\"T_64c6336c_6075_11ea_802a_0242ac110004level0_row3\" class=\"row_heading level0 row3\" >snow_1h</th>\n",
       "                        <td id=\"T_64c6336c_6075_11ea_802a_0242ac110004row3_col0\" class=\"data row3 col0\" >0.00042</td>\n",
       "                        <td id=\"T_64c6336c_6075_11ea_802a_0242ac110004row3_col1\" class=\"data row3 col1\" >0.022</td>\n",
       "                        <td id=\"T_64c6336c_6075_11ea_802a_0242ac110004row3_col2\" class=\"data row3 col2\" >0.005</td>\n",
       "                        <td id=\"T_64c6336c_6075_11ea_802a_0242ac110004row3_col3\" class=\"data row3 col3\" >1</td>\n",
       "                        <td id=\"T_64c6336c_6075_11ea_802a_0242ac110004row3_col4\" class=\"data row3 col4\" >0.029</td>\n",
       "                        <td id=\"T_64c6336c_6075_11ea_802a_0242ac110004row3_col5\" class=\"data row3 col5\" >0.041</td>\n",
       "                        <td id=\"T_64c6336c_6075_11ea_802a_0242ac110004row3_col6\" class=\"data row3 col6\" >0.0028</td>\n",
       "                        <td id=\"T_64c6336c_6075_11ea_802a_0242ac110004row3_col7\" class=\"data row3 col7\" >0.012</td>\n",
       "                        <td id=\"T_64c6336c_6075_11ea_802a_0242ac110004row3_col8\" class=\"data row3 col8\" >0.015</td>\n",
       "                        <td id=\"T_64c6336c_6075_11ea_802a_0242ac110004row3_col9\" class=\"data row3 col9\" >0.0053</td>\n",
       "            </tr>\n",
       "            <tr>\n",
       "                        <th id=\"T_64c6336c_6075_11ea_802a_0242ac110004level0_row4\" class=\"row_heading level0 row4\" >clouds_all</th>\n",
       "                        <td id=\"T_64c6336c_6075_11ea_802a_0242ac110004row4_col0\" class=\"data row4 col0\" >0.0082</td>\n",
       "                        <td id=\"T_64c6336c_6075_11ea_802a_0242ac110004row4_col1\" class=\"data row4 col1\" >0.13</td>\n",
       "                        <td id=\"T_64c6336c_6075_11ea_802a_0242ac110004row4_col2\" class=\"data row4 col2\" >0.078</td>\n",
       "                        <td id=\"T_64c6336c_6075_11ea_802a_0242ac110004row4_col3\" class=\"data row4 col3\" >0.029</td>\n",
       "                        <td id=\"T_64c6336c_6075_11ea_802a_0242ac110004row4_col4\" class=\"data row4 col4\" >1</td>\n",
       "                        <td id=\"T_64c6336c_6075_11ea_802a_0242ac110004row4_col5\" class=\"data row4 col5\" >0.5</td>\n",
       "                        <td id=\"T_64c6336c_6075_11ea_802a_0242ac110004row4_col6\" class=\"data row4 col6\" >0.5</td>\n",
       "                        <td id=\"T_64c6336c_6075_11ea_802a_0242ac110004row4_col7\" class=\"data row4 col7\" >0.057</td>\n",
       "                        <td id=\"T_64c6336c_6075_11ea_802a_0242ac110004row4_col8\" class=\"data row4 col8\" >0.039</td>\n",
       "                        <td id=\"T_64c6336c_6075_11ea_802a_0242ac110004row4_col9\" class=\"data row4 col9\" >0.068</td>\n",
       "            </tr>\n",
       "            <tr>\n",
       "                        <th id=\"T_64c6336c_6075_11ea_802a_0242ac110004level0_row5\" class=\"row_heading level0 row5\" >weather_main</th>\n",
       "                        <td id=\"T_64c6336c_6075_11ea_802a_0242ac110004row5_col0\" class=\"data row5 col0\" >0.0029</td>\n",
       "                        <td id=\"T_64c6336c_6075_11ea_802a_0242ac110004row5_col1\" class=\"data row5 col1\" >0.073</td>\n",
       "                        <td id=\"T_64c6336c_6075_11ea_802a_0242ac110004row5_col2\" class=\"data row5 col2\" >0.21</td>\n",
       "                        <td id=\"T_64c6336c_6075_11ea_802a_0242ac110004row5_col3\" class=\"data row5 col3\" >0.041</td>\n",
       "                        <td id=\"T_64c6336c_6075_11ea_802a_0242ac110004row5_col4\" class=\"data row5 col4\" >0.5</td>\n",
       "                        <td id=\"T_64c6336c_6075_11ea_802a_0242ac110004row5_col5\" class=\"data row5 col5\" >1</td>\n",
       "                        <td id=\"T_64c6336c_6075_11ea_802a_0242ac110004row5_col6\" class=\"data row5 col6\" >0.25</td>\n",
       "                        <td id=\"T_64c6336c_6075_11ea_802a_0242ac110004row5_col7\" class=\"data row5 col7\" >0.053</td>\n",
       "                        <td id=\"T_64c6336c_6075_11ea_802a_0242ac110004row5_col8\" class=\"data row5 col8\" >0.04</td>\n",
       "                        <td id=\"T_64c6336c_6075_11ea_802a_0242ac110004row5_col9\" class=\"data row5 col9\" >0.039</td>\n",
       "            </tr>\n",
       "            <tr>\n",
       "                        <th id=\"T_64c6336c_6075_11ea_802a_0242ac110004level0_row6\" class=\"row_heading level0 row6\" >weather_description</th>\n",
       "                        <td id=\"T_64c6336c_6075_11ea_802a_0242ac110004row6_col0\" class=\"data row6 col0\" >0.0081</td>\n",
       "                        <td id=\"T_64c6336c_6075_11ea_802a_0242ac110004row6_col1\" class=\"data row6 col1\" >0.034</td>\n",
       "                        <td id=\"T_64c6336c_6075_11ea_802a_0242ac110004row6_col2\" class=\"data row6 col2\" >0.077</td>\n",
       "                        <td id=\"T_64c6336c_6075_11ea_802a_0242ac110004row6_col3\" class=\"data row6 col3\" >0.0028</td>\n",
       "                        <td id=\"T_64c6336c_6075_11ea_802a_0242ac110004row6_col4\" class=\"data row6 col4\" >0.5</td>\n",
       "                        <td id=\"T_64c6336c_6075_11ea_802a_0242ac110004row6_col5\" class=\"data row6 col5\" >0.25</td>\n",
       "                        <td id=\"T_64c6336c_6075_11ea_802a_0242ac110004row6_col6\" class=\"data row6 col6\" >1</td>\n",
       "                        <td id=\"T_64c6336c_6075_11ea_802a_0242ac110004row6_col7\" class=\"data row6 col7\" >0.015</td>\n",
       "                        <td id=\"T_64c6336c_6075_11ea_802a_0242ac110004row6_col8\" class=\"data row6 col8\" >0.028</td>\n",
       "                        <td id=\"T_64c6336c_6075_11ea_802a_0242ac110004row6_col9\" class=\"data row6 col9\" >0.061</td>\n",
       "            </tr>\n",
       "            <tr>\n",
       "                        <th id=\"T_64c6336c_6075_11ea_802a_0242ac110004level0_row7\" class=\"row_heading level0 row7\" >date_time</th>\n",
       "                        <td id=\"T_64c6336c_6075_11ea_802a_0242ac110004row7_col0\" class=\"data row7 col0\" >0.025</td>\n",
       "                        <td id=\"T_64c6336c_6075_11ea_802a_0242ac110004row7_col1\" class=\"data row7 col1\" >0.12</td>\n",
       "                        <td id=\"T_64c6336c_6075_11ea_802a_0242ac110004row7_col2\" class=\"data row7 col2\" >0.0039</td>\n",
       "                        <td id=\"T_64c6336c_6075_11ea_802a_0242ac110004row7_col3\" class=\"data row7 col3\" >0.012</td>\n",
       "                        <td id=\"T_64c6336c_6075_11ea_802a_0242ac110004row7_col4\" class=\"data row7 col4\" >0.057</td>\n",
       "                        <td id=\"T_64c6336c_6075_11ea_802a_0242ac110004row7_col5\" class=\"data row7 col5\" >0.053</td>\n",
       "                        <td id=\"T_64c6336c_6075_11ea_802a_0242ac110004row7_col6\" class=\"data row7 col6\" >0.015</td>\n",
       "                        <td id=\"T_64c6336c_6075_11ea_802a_0242ac110004row7_col7\" class=\"data row7 col7\" >1</td>\n",
       "                        <td id=\"T_64c6336c_6075_11ea_802a_0242ac110004row7_col8\" class=\"data row7 col8\" >0.002</td>\n",
       "                        <td id=\"T_64c6336c_6075_11ea_802a_0242ac110004row7_col9\" class=\"data row7 col9\" >0.35</td>\n",
       "            </tr>\n",
       "            <tr>\n",
       "                        <th id=\"T_64c6336c_6075_11ea_802a_0242ac110004level0_row8\" class=\"row_heading level0 row8\" >day_of_week</th>\n",
       "                        <td id=\"T_64c6336c_6075_11ea_802a_0242ac110004row8_col0\" class=\"data row8 col0\" >0.02</td>\n",
       "                        <td id=\"T_64c6336c_6075_11ea_802a_0242ac110004row8_col1\" class=\"data row8 col1\" >0.0031</td>\n",
       "                        <td id=\"T_64c6336c_6075_11ea_802a_0242ac110004row8_col2\" class=\"data row8 col2\" >0.024</td>\n",
       "                        <td id=\"T_64c6336c_6075_11ea_802a_0242ac110004row8_col3\" class=\"data row8 col3\" >0.015</td>\n",
       "                        <td id=\"T_64c6336c_6075_11ea_802a_0242ac110004row8_col4\" class=\"data row8 col4\" >0.039</td>\n",
       "                        <td id=\"T_64c6336c_6075_11ea_802a_0242ac110004row8_col5\" class=\"data row8 col5\" >0.04</td>\n",
       "                        <td id=\"T_64c6336c_6075_11ea_802a_0242ac110004row8_col6\" class=\"data row8 col6\" >0.028</td>\n",
       "                        <td id=\"T_64c6336c_6075_11ea_802a_0242ac110004row8_col7\" class=\"data row8 col7\" >0.002</td>\n",
       "                        <td id=\"T_64c6336c_6075_11ea_802a_0242ac110004row8_col8\" class=\"data row8 col8\" >1</td>\n",
       "                        <td id=\"T_64c6336c_6075_11ea_802a_0242ac110004row8_col9\" class=\"data row8 col9\" >0.15</td>\n",
       "            </tr>\n",
       "            <tr>\n",
       "                        <th id=\"T_64c6336c_6075_11ea_802a_0242ac110004level0_row9\" class=\"row_heading level0 row9\" >traffic_volume</th>\n",
       "                        <td id=\"T_64c6336c_6075_11ea_802a_0242ac110004row9_col0\" class=\"data row9 col0\" >0.018</td>\n",
       "                        <td id=\"T_64c6336c_6075_11ea_802a_0242ac110004row9_col1\" class=\"data row9 col1\" >0.14</td>\n",
       "                        <td id=\"T_64c6336c_6075_11ea_802a_0242ac110004row9_col2\" class=\"data row9 col2\" >0.013</td>\n",
       "                        <td id=\"T_64c6336c_6075_11ea_802a_0242ac110004row9_col3\" class=\"data row9 col3\" >0.0053</td>\n",
       "                        <td id=\"T_64c6336c_6075_11ea_802a_0242ac110004row9_col4\" class=\"data row9 col4\" >0.068</td>\n",
       "                        <td id=\"T_64c6336c_6075_11ea_802a_0242ac110004row9_col5\" class=\"data row9 col5\" >0.039</td>\n",
       "                        <td id=\"T_64c6336c_6075_11ea_802a_0242ac110004row9_col6\" class=\"data row9 col6\" >0.061</td>\n",
       "                        <td id=\"T_64c6336c_6075_11ea_802a_0242ac110004row9_col7\" class=\"data row9 col7\" >0.35</td>\n",
       "                        <td id=\"T_64c6336c_6075_11ea_802a_0242ac110004row9_col8\" class=\"data row9 col8\" >0.15</td>\n",
       "                        <td id=\"T_64c6336c_6075_11ea_802a_0242ac110004row9_col9\" class=\"data row9 col9\" >1</td>\n",
       "            </tr>\n",
       "    </tbody></table>"
      ],
      "text/plain": [
       "<pandas.io.formats.style.Styler at 0x7f656c007550>"
      ]
     },
     "execution_count": 22,
     "metadata": {},
     "output_type": "execute_result"
    }
   ],
   "source": [
    "corr_matrix = df_normalized.corr().abs()\n",
    "corr_matrix.style.background_gradient('coolwarm').set_precision(2)"
   ]
  },
  {
   "cell_type": "markdown",
   "metadata": {},
   "source": [
    "Conforme visto, não há uma correlação muito forte entre as variáveis de entrada."
   ]
  },
  {
   "cell_type": "markdown",
   "metadata": {},
   "source": [
    "## Separando Dados de Entrada e Saida, X e Y Respectivamente"
   ]
  },
  {
   "cell_type": "code",
   "execution_count": 23,
   "metadata": {},
   "outputs": [],
   "source": [
    "X = df_normalized.iloc[:,:-1].values\n",
    "Y = df_normalized.iloc[:,-1:].values"
   ]
  },
  {
   "cell_type": "markdown",
   "metadata": {},
   "source": [
    "# Separando em dados de treino(entrada e saida) e dados de teste(entrada e saida)"
   ]
  },
  {
   "cell_type": "code",
   "execution_count": 24,
   "metadata": {},
   "outputs": [],
   "source": [
    "X_train, X_test, Y_train, Y_test = train_test_split( X, Y, test_size=0.30)"
   ]
  },
  {
   "cell_type": "markdown",
   "metadata": {},
   "source": [
    "## Utilizando KNN Regressão - Split - Primeiro"
   ]
  },
  {
   "cell_type": "code",
   "execution_count": 25,
   "metadata": {},
   "outputs": [],
   "source": [
    "from sklearn.metrics import mean_squared_error, r2_score\n",
    "from sklearn.model_selection import GridSearchCV\n",
    "\n",
    "knn = KNeighborsRegressor(n_neighbors=17).fit(X_train, Y_train)\n",
    "Y_pred = knn.predict(X_test)"
   ]
  },
  {
   "cell_type": "markdown",
   "metadata": {},
   "source": [
    "A métrica usada aqui é a r2_socre, quanto mais próximo de 1.0 melhor, 1.0 é o ideal"
   ]
  },
  {
   "cell_type": "code",
   "execution_count": 26,
   "metadata": {},
   "outputs": [
    {
     "data": {
      "text/plain": [
       "0.8795454324984546"
      ]
     },
     "execution_count": 26,
     "metadata": {},
     "output_type": "execute_result"
    }
   ],
   "source": [
    "r2_score(Y_test, Y_pred)"
   ]
  },
  {
   "cell_type": "markdown",
   "metadata": {},
   "source": [
    "Gráfico em Barra Comparando o Valol Real e o Previsto"
   ]
  },
  {
   "cell_type": "code",
   "execution_count": 27,
   "metadata": {},
   "outputs": [
    {
     "data": {
      "text/plain": [
       "<matplotlib.axes._subplots.AxesSubplot at 0x7f656be36290>"
      ]
     },
     "execution_count": 27,
     "metadata": {},
     "output_type": "execute_result"
    },
    {
     "data": {
      "image/png": "[encoded data removed]",
      "text/plain": [
       "<Figure size 432x288 with 1 Axes>"
      ]
     },
     "metadata": {
      "needs_background": "light"
     },
     "output_type": "display_data"
    }
   ],
   "source": [
    "graphPredReal = pd.DataFrame({'Real': Y_test.flatten(), 'Predicted': Y_pred.flatten()})\n",
    "graphPredRealPlot = graphPredReal.sample(15)\n",
    "graphPredRealPlot.plot.bar()"
   ]
  },
  {
   "cell_type": "markdown",
   "metadata": {},
   "source": [
    "# Separando em dados de treino(entrada e saida) e dados de teste(entrada e saida)"
   ]
  },
  {
   "cell_type": "code",
   "execution_count": 28,
   "metadata": {},
   "outputs": [],
   "source": [
    "X_train, X_test, Y_train, Y_test = train_test_split( X, Y, test_size=0.30)"
   ]
  },
  {
   "cell_type": "markdown",
   "metadata": {},
   "source": [
    "## Utilizando KNN Regressão - Split - Segundo"
   ]
  },
  {
   "cell_type": "code",
   "execution_count": 29,
   "metadata": {},
   "outputs": [],
   "source": [
    "from sklearn.metrics import mean_squared_error, r2_score\n",
    "from sklearn.model_selection import GridSearchCV\n",
    "\n",
    "knn = KNeighborsRegressor(n_neighbors=17).fit(X_train, Y_train)\n",
    "Y_pred = knn.predict(X_test)"
   ]
  },
  {
   "cell_type": "markdown",
   "metadata": {},
   "source": [
    "A métrica usada aqui é a r2_socre, quanto mais próximo de 1.0 melhor, 1.0 é o ideal"
   ]
  },
  {
   "cell_type": "code",
   "execution_count": 30,
   "metadata": {},
   "outputs": [
    {
     "data": {
      "text/plain": [
       "0.878131415045843"
      ]
     },
     "execution_count": 30,
     "metadata": {},
     "output_type": "execute_result"
    }
   ],
   "source": [
    "r2_score(Y_test, Y_pred)"
   ]
  },
  {
   "cell_type": "markdown",
   "metadata": {},
   "source": [
    "Gráfico em Barra Comparando o Valol Real e o Previsto"
   ]
  },
  {
   "cell_type": "code",
   "execution_count": 31,
   "metadata": {},
   "outputs": [
    {
     "data": {
      "text/plain": [
       "<matplotlib.axes._subplots.AxesSubplot at 0x7f656bd5e210>"
      ]
     },
     "execution_count": 31,
     "metadata": {},
     "output_type": "execute_result"
    },
    {
     "data": {
      "image/png": "[encoded data removed]",
      "text/plain": [
       "<Figure size 432x288 with 1 Axes>"
      ]
     },
     "metadata": {
      "needs_background": "light"
     },
     "output_type": "display_data"
    }
   ],
   "source": [
    "graphPredReal = pd.DataFrame({'Real': Y_test.flatten(), 'Predicted': Y_pred.flatten()})\n",
    "graphPredRealPlot = graphPredReal.sample(15)\n",
    "graphPredRealPlot.plot.bar()"
   ]
  },
  {
   "cell_type": "markdown",
   "metadata": {},
   "source": [
    "## Utilizando KNN Regressão - Cross Validation 10"
   ]
  },
  {
   "cell_type": "code",
   "execution_count": 32,
   "metadata": {},
   "outputs": [
    {
     "name": "stdout",
     "output_type": "stream",
     "text": [
      "cv scores de : [0.87337755 0.87776607 0.87577081 0.87805375 0.87978826 0.87226518\n",
      " 0.87394161 0.87383902 0.87117359 0.87454203]\n",
      "média de : 0.8750517874089494\n"
     ]
    }
   ],
   "source": [
    "from sklearn.model_selection import cross_val_score\n",
    "cv_scores = cross_val_score(knn, X_train, Y_train, cv=10)\n",
    "Y_pred = knn.predict(X_test)\n",
    "print('cv scores de : {}\\nmédia de : {}'.format(cv_scores, cv_scores.mean()))"
   ]
  }
 ],
 "metadata": {
  "kernelspec": {
   "display_name": "Python 3",
   "language": "python",
   "name": "python3"
  },
  "language_info": {
   "codemirror_mode": {
    "name": "ipython",
    "version": 3
   },
   "file_extension": ".py",
   "mimetype": "text/x-python",
   "name": "python",
   "nbconvert_exporter": "python",
   "pygments_lexer": "ipython3",
   "version": "3.7.6"
  }
 },
 "nbformat": 4,
 "nbformat_minor": 4
}
